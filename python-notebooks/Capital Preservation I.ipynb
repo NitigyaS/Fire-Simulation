{
 "metadata": {
  "language_info": {
   "codemirror_mode": {
    "name": "ipython",
    "version": 3
   },
   "file_extension": ".py",
   "mimetype": "text/x-python",
   "name": "python",
   "nbconvert_exporter": "python",
   "pygments_lexer": "ipython3",
   "version": "3.6.9-final"
  },
  "orig_nbformat": 2,
  "kernelspec": {
   "name": "Python 3.6.9 64-bit ('.venv')",
   "display_name": "Python 3.6.9 64-bit ('.venv')",
   "metadata": {
    "interpreter": {
     "hash": "e22ffb61402e43a982ea6139463656588c8f750fc6615ba284cffe521cb51671"
    }
   }
  }
 },
 "nbformat": 4,
 "nbformat_minor": 2,
 "cells": [
  {
   "source": [
    "### Strategy\n",
    "Since Mostly the portfolio fails if the withdrawls happens during Market Crash,\n",
    "We can use the Debt to make sure the withdrawls are not happening during crash period.\n",
    "\n",
    "Logic:\n",
    "Withdraw from equity if the value of equity is more than inflation adjusted appreciation\n",
    "else Withdraw from debt."
   ],
   "cell_type": "markdown",
   "metadata": {}
  },
  {
   "cell_type": "code",
   "execution_count": null,
   "metadata": {},
   "outputs": [],
   "source": [
    "import pandas as pd \n",
    "import math\n",
    "import plotly.express as px\n"
   ]
  },
  {
   "cell_type": "code",
   "execution_count": null,
   "metadata": {},
   "outputs": [],
   "source": [
    "sensex_1980 = \"../data/SnP-Sensex-1980.csv\"\n",
    "sensex_df = pd.read_csv(sensex_1980, header=0)\n",
    "sensex_df\n",
    "del sensex_df[\"Low\"]\n",
    "del sensex_df[\"Open\"]\n",
    "del sensex_df[\"High\"]\n",
    "sensex_df[\"Returns\"] = sensex_df[\"Close\"].pct_change()\n",
    "sensex_df= sensex_df.fillna(0)"
   ]
  },
  {
   "source": [
    "sensex_df"
   ],
   "cell_type": "code",
   "metadata": {},
   "execution_count": null,
   "outputs": []
  },
  {
   "source": [
    "#### Effective Return = Return On Equity + Return on Debt - Inflated Value fo Withdrawl"
   ],
   "cell_type": "markdown",
   "metadata": {}
  },
  {
   "cell_type": "code",
   "execution_count": null,
   "metadata": {},
   "outputs": [],
   "source": [
    "DEBT_RETURN = 1.09\n",
    "INFLATION_ANNUAL = 1.05\n",
    "SWR = 4\n",
    "SWR_RANGES = [0,1,2,3,4,5]\n",
    "MONTHLY_DEBT_RETURN = math.pow(DEBT_RETURN, 1/12) - 1\n",
    "MONTHLY_INFLATION = math.pow(INFLATION_ANNUAL, 1/12) - 1\n",
    "FIRST_WITHDRAWAL = SWR/12\n",
    "EQUITY_SHARE = .7\n",
    "DEBT_SHARE = 1 - EQUITY_SHARE\n",
    "INITIAL_NVESTMENT = 100\n",
    "DATAPOINTS = len(sensex_df.index)\n",
    "EXCLUDE_RESULT = 60 # Last 1 year , result will excluded for performance calculation"
   ]
  },
  {
   "cell_type": "code",
   "execution_count": null,
   "metadata": {},
   "outputs": [],
   "source": [
    "def calculate_withdrawls(initial_withdrawal):\n",
    "    withdrawals = list()\n",
    "    withdrawals_values = initial_withdrawal\n",
    "    for i in range(DATAPOINTS):\n",
    "        withdrawals_values = (1+MONTHLY_INFLATION)*withdrawals_values\n",
    "        withdrawals.append(withdrawals_values)\n",
    "    return withdrawals\n"
   ]
  },
  {
   "cell_type": "code",
   "execution_count": null,
   "metadata": {},
   "outputs": [],
   "source": [
    "def calculate_inflated_portfolio(initial_investment):\n",
    "    inflated_portfolio = list()\n",
    "    inflated_values = initial_investment\n",
    "    inflated_portfolio.append(initial_investment)\n",
    "    for i in range(DATAPOINTS):\n",
    "        inflated_values = (1+MONTHLY_INFLATION)*inflated_values\n",
    "        inflated_portfolio.append(inflated_values)\n",
    "    return inflated_portfolio\n",
    "INFLATED_PORTFOLIO = calculate_inflated_portfolio(INITIAL_NVESTMENT*EQUITY_SHARE)"
   ]
  },
  {
   "cell_type": "code",
   "execution_count": null,
   "metadata": {},
   "outputs": [],
   "source": [
    "def generate_portfolio(main_index, withdrawals):\n",
    "    equity = INITIAL_NVESTMENT*EQUITY_SHARE\n",
    "    debt = INITIAL_NVESTMENT*DEBT_SHARE\n",
    "    current_month_amount = equity + debt\n",
    "    monthly_portfolio_value = list()\n",
    "    for index, row in sensex_df.iterrows():\n",
    "        if main_index < index:\n",
    "            if equity >= INFLATED_PORTFOLIO[index]: ## Deduct if equitu is more than value of infaltion adjusted\n",
    "                debt = (1+ MONTHLY_DEBT_RETURN)*debt\n",
    "                equity = (1 + row[\"Returns\"])*equity - withdrawals[index]\n",
    "            else:\n",
    "                debt = (1+ MONTHLY_DEBT_RETURN)*debt - withdrawals[index]\n",
    "                equity = (1 + row[\"Returns\"])*equity \n",
    "            total_value = equity + debt\n",
    "            monthly_portfolio_value.append(total_value)\n",
    "        elif main_index == index:\n",
    "            monthly_portfolio_value.append(equity + debt)\n",
    "        else:\n",
    "            monthly_portfolio_value.append(None)\n",
    "    return monthly_portfolio_value"
   ]
  },
  {
   "cell_type": "code",
   "execution_count": null,
   "metadata": {},
   "outputs": [],
   "source": [
    "performance_at_swr = dict()\n",
    "for swr in SWR_RANGES:\n",
    "    initial_withdrawal = swr/12\n",
    "    withdrawals = calculate_withdrawls(initial_withdrawal)\n",
    "    portfolio_growth_df = pd.DataFrame()\n",
    "    for main_index, main_row in sensex_df.iterrows():\n",
    "        monthly_portfolio_value  = generate_portfolio(main_index, withdrawals)\n",
    "        portfolio_growth_df.insert(main_index, main_row[\"Month\"], monthly_portfolio_value)\n",
    "    performance_at_swr[swr] = portfolio_growth_df"
   ]
  },
  {
   "cell_type": "code",
   "execution_count": null,
   "metadata": {},
   "outputs": [],
   "source": [
    "def inflated_value(initial_value, timeperiod, monthly_inflation):\n",
    "    return initial_value * (pow((1 + monthly_inflation ), timeperiod)) "
   ]
  },
  {
   "cell_type": "code",
   "execution_count": null,
   "metadata": {},
   "outputs": [],
   "source": [
    "## Calculate the inflated value of portfolio\n",
    "inflated_corpus = list()\n",
    "total_months = len(sensex_df.index) -1\n",
    "for month  in sensex_df[\"Month\"]:\n",
    "    corpus_value = inflated_value(100, total_months, MONTHLY_INFLATION)\n",
    "    inflated_corpus.append((month, corpus_value))\n",
    "    total_months -= 1\n",
    "inflated_corpus_df = pd.DataFrame.from_records(inflated_corpus, columns=[\"Month\", \"corpus\"])\n",
    "inflated_corpus_df"
   ]
  },
  {
   "cell_type": "code",
   "execution_count": null,
   "metadata": {},
   "outputs": [],
   "source": [
    "## Current Value of Portfolio\n",
    "def get_current_value(performace_df):\n",
    "    current_value_df  = performace_df.tail(1)\n",
    "    current_value_df = current_value_df.transpose()\n",
    "    current_value_df.columns = [\"corpus\"]\n",
    "    current_value_df['Month'] = current_value_df.index\n",
    "    current_value_df = current_value_df[['Month', 'corpus']]\n",
    "    current_value_df = current_value_df.reset_index(drop=True)\n",
    "    return current_value_df\n",
    "get_current_value(performance_at_swr[4])"
   ]
  },
  {
   "cell_type": "code",
   "execution_count": null,
   "metadata": {},
   "outputs": [],
   "source": [
    "performance_list = list()\n",
    "for swr in SWR_RANGES:\n",
    "    current_value_df = get_current_value(performance_at_swr[swr])\n",
    "    temp_current_value_df = current_value_df[:-EXCLUDE_RESULT]\n",
    "    temp_inflated_corpus_df = inflated_corpus_df[:-EXCLUDE_RESULT]\n",
    "    preservation_result =  temp_current_value_df['corpus'] - temp_inflated_corpus_df['corpus']\n",
    "    preservation_result_df = pd.DataFrame(preservation_result)\n",
    "    preservation_status = preservation_result_df.apply(lambda x: True if x['corpus'] >0 else False , axis=1)\n",
    "    success = len(preservation_status[preservation_status == True].index)\n",
    "    performance_list.append((swr, success/len(preservation_status)))"
   ]
  },
  {
   "cell_type": "code",
   "execution_count": null,
   "metadata": {},
   "outputs": [],
   "source": [
    "performance_df = pd.DataFrame.from_records(performance_list, columns=[\"SWR\", \"Performance\"])"
   ]
  },
  {
   "cell_type": "code",
   "execution_count": null,
   "metadata": {},
   "outputs": [],
   "source": [
    "performance_df"
   ]
  },
  {
   "cell_type": "code",
   "execution_count": null,
   "metadata": {},
   "outputs": [],
   "source": [
    "performance_df"
   ]
  },
  {
   "cell_type": "code",
   "execution_count": null,
   "metadata": {},
   "outputs": [],
   "source": [
    "fig = px.line(performance_at_swr[4], title='SWR 4% - 1991 - 2020')\n",
    "fig.show()"
   ]
  },
  {
   "source": [
    "Years Failed"
   ],
   "cell_type": "markdown",
   "metadata": {}
  },
  {
   "cell_type": "code",
   "execution_count": null,
   "metadata": {},
   "outputs": [],
   "source": [
    "current_value_df = get_current_value(performance_at_swr[4])\n",
    "temp_current_value_df = current_value_df[:-EXCLUDE_RESULT]\n",
    "temp_inflated_corpus_df = inflated_corpus_df[:-EXCLUDE_RESULT]\n",
    "preservation_result =  temp_current_value_df['corpus'] - temp_inflated_corpus_df['corpus']\n",
    "preservation_result\n"
   ]
  },
  {
   "cell_type": "code",
   "execution_count": null,
   "metadata": {},
   "outputs": [],
   "source": [
    "preservation_result_df = pd.DataFrame(preservation_result)\n",
    "preservation_result_df"
   ]
  },
  {
   "cell_type": "code",
   "execution_count": null,
   "metadata": {},
   "outputs": [],
   "source": []
  },
  {
   "cell_type": "code",
   "execution_count": null,
   "metadata": {},
   "outputs": [],
   "source": []
  }
 ]
}