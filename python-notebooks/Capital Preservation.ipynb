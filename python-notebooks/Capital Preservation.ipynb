{
 "metadata": {
  "language_info": {
   "codemirror_mode": {
    "name": "ipython",
    "version": 3
   },
   "file_extension": ".py",
   "mimetype": "text/x-python",
   "name": "python",
   "nbconvert_exporter": "python",
   "pygments_lexer": "ipython3",
   "version": "3.6.9-final"
  },
  "orig_nbformat": 2,
  "kernelspec": {
   "name": "Python 3.6.9 64-bit ('.venv')",
   "display_name": "Python 3.6.9 64-bit ('.venv')",
   "metadata": {
    "interpreter": {
     "hash": "e22ffb61402e43a982ea6139463656588c8f750fc6615ba284cffe521cb51671"
    }
   }
  }
 },
 "nbformat": 4,
 "nbformat_minor": 2,
 "cells": [
  {
   "cell_type": "code",
   "execution_count": 16,
   "metadata": {},
   "outputs": [],
   "source": [
    "import pandas as pd \n",
    "import math\n",
    "import plotly.express as px\n"
   ]
  },
  {
   "cell_type": "code",
   "execution_count": 17,
   "metadata": {},
   "outputs": [],
   "source": [
    "sensex_1980 = \"../data/SnP-Sensex-1980.csv\"\n",
    "sensex_df = pd.read_csv(sensex_1980, header=0)\n",
    "sensex_df\n",
    "del sensex_df[\"Low\"]\n",
    "del sensex_df[\"Open\"]\n",
    "del sensex_df[\"High\"]\n",
    "sensex_df[\"Returns\"] = sensex_df[\"Close\"].pct_change()\n",
    "sensex_df= sensex_df.fillna(0)"
   ]
  },
  {
   "source": [
    "sensex_df"
   ],
   "cell_type": "code",
   "metadata": {},
   "execution_count": 18,
   "outputs": [
    {
     "output_type": "execute_result",
     "data": {
      "text/plain": [
       "              Month     Close   Returns\n",
       "0      January-1991    982.32  0.000000\n",
       "1     February-1991   1220.41  0.242375\n",
       "2        March-1991   1167.97 -0.042969\n",
       "3        April-1991   1235.11  0.057484\n",
       "4          May-1991   1307.34  0.058481\n",
       "..              ...       ...       ...\n",
       "353       June-2020  34915.80  0.076847\n",
       "354       July-2020  37606.89  0.077074\n",
       "355     August-2020  38628.29  0.027160\n",
       "356  September-2020  38067.93 -0.014506\n",
       "357    October-2020  40509.49  0.064137\n",
       "\n",
       "[358 rows x 3 columns]"
      ],
      "text/html": "<div>\n<style scoped>\n    .dataframe tbody tr th:only-of-type {\n        vertical-align: middle;\n    }\n\n    .dataframe tbody tr th {\n        vertical-align: top;\n    }\n\n    .dataframe thead th {\n        text-align: right;\n    }\n</style>\n<table border=\"1\" class=\"dataframe\">\n  <thead>\n    <tr style=\"text-align: right;\">\n      <th></th>\n      <th>Month</th>\n      <th>Close</th>\n      <th>Returns</th>\n    </tr>\n  </thead>\n  <tbody>\n    <tr>\n      <th>0</th>\n      <td>January-1991</td>\n      <td>982.32</td>\n      <td>0.000000</td>\n    </tr>\n    <tr>\n      <th>1</th>\n      <td>February-1991</td>\n      <td>1220.41</td>\n      <td>0.242375</td>\n    </tr>\n    <tr>\n      <th>2</th>\n      <td>March-1991</td>\n      <td>1167.97</td>\n      <td>-0.042969</td>\n    </tr>\n    <tr>\n      <th>3</th>\n      <td>April-1991</td>\n      <td>1235.11</td>\n      <td>0.057484</td>\n    </tr>\n    <tr>\n      <th>4</th>\n      <td>May-1991</td>\n      <td>1307.34</td>\n      <td>0.058481</td>\n    </tr>\n    <tr>\n      <th>...</th>\n      <td>...</td>\n      <td>...</td>\n      <td>...</td>\n    </tr>\n    <tr>\n      <th>353</th>\n      <td>June-2020</td>\n      <td>34915.80</td>\n      <td>0.076847</td>\n    </tr>\n    <tr>\n      <th>354</th>\n      <td>July-2020</td>\n      <td>37606.89</td>\n      <td>0.077074</td>\n    </tr>\n    <tr>\n      <th>355</th>\n      <td>August-2020</td>\n      <td>38628.29</td>\n      <td>0.027160</td>\n    </tr>\n    <tr>\n      <th>356</th>\n      <td>September-2020</td>\n      <td>38067.93</td>\n      <td>-0.014506</td>\n    </tr>\n    <tr>\n      <th>357</th>\n      <td>October-2020</td>\n      <td>40509.49</td>\n      <td>0.064137</td>\n    </tr>\n  </tbody>\n</table>\n<p>358 rows × 3 columns</p>\n</div>"
     },
     "metadata": {},
     "execution_count": 18
    }
   ]
  },
  {
   "source": [
    "#### Effective Return = Return On Equity + Return on Debt - Inflated Value fo Withdrawl"
   ],
   "cell_type": "markdown",
   "metadata": {}
  },
  {
   "cell_type": "code",
   "execution_count": 80,
   "metadata": {},
   "outputs": [],
   "source": [
    "DEBT_RETURN = 1.07\n",
    "INFLATION_ANNUAL = 1.05\n",
    "SWR = 4\n",
    "SWR_RANGES = [1,2,3,5]\n",
    "MONTHLY_DEBT_RETURN = math.pow(DEBT_RETURN, 1/12) - 1\n",
    "MONTHLY_INFLATION = math.pow(INFLATION_ANNUAL, 1/12) - 1\n",
    "FIRST_WITHDRAWAL = SWR/12\n",
    "EQUITY_SHARE = .7\n",
    "DEBT_SHARE = 1 - EQUITY_SHARE\n",
    "INITIAL_NVESTMENT = 100\n",
    "DATAPOINTS = len(sensex_df.index)"
   ]
  },
  {
   "cell_type": "code",
   "execution_count": 81,
   "metadata": {},
   "outputs": [],
   "source": [
    "def calculate_withdrawls(initial_withdrawal):\n",
    "    withdrawals = list()\n",
    "    withdrawals_values = initial_withdrawal\n",
    "    for i in range(DATAPOINTS):\n",
    "        withdrawals_values = (1+MONTHLY_INFLATION)*withdrawals_values\n",
    "        withdrawals.append(withdrawals_values)\n",
    "    return withdrawals\n",
    "\n"
   ]
  },
  {
   "cell_type": "code",
   "execution_count": 82,
   "metadata": {},
   "outputs": [],
   "source": [
    "def generate_portfolio(main_index, withdrawals):\n",
    "    equity = INITIAL_NVESTMENT*EQUITY_SHARE\n",
    "    debt = INITIAL_NVESTMENT*DEBT_SHARE\n",
    "    current_month_amount = equity + debt\n",
    "    monthly_portfolio_value = list()\n",
    "    for index, row in sensex_df.iterrows():\n",
    "        if main_index < index:\n",
    "            if debt >= withdrawals[index]*DEBT_SHARE and equity >= withdrawals[index]*EQUITY_SHARE: ## Deduct from both if both are positive\n",
    "                debt = (1+ MONTHLY_DEBT_RETURN)*debt - withdrawals[index]*DEBT_SHARE\n",
    "                equity = (1 + row[\"Returns\"])*equity - withdrawals[index]*EQUITY_SHARE\n",
    "            elif debt < withdrawals[index]:   ## Deduct from equity if debt is less\n",
    "                debt = (1+ MONTHLY_DEBT_RETURN)*debt\n",
    "                equity = (1 + row[\"Returns\"])*equity - withdrawals[index]\n",
    "            elif equity < withdrawals[index]:     ## Deduct from debt if equity is less\n",
    "                debt = (1+ MONTHLY_DEBT_RETURN)*debt - withdrawals[index]\n",
    "                equity = (1 + row[\"Returns\"])*equity \n",
    "            total_value = equity + debt\n",
    "            monthly_portfolio_value.append(total_value)\n",
    "        elif main_index == index:\n",
    "            monthly_portfolio_value.append(equity + debt)\n",
    "        else:\n",
    "            monthly_portfolio_value.append(None)\n",
    "    return monthly_portfolio_value"
   ]
  },
  {
   "cell_type": "code",
   "execution_count": 83,
   "metadata": {},
   "outputs": [],
   "source": [
    "performance_at_swr = dict()\n",
    "for swr in SWR_RANGES:\n",
    "    initial_withdrawal = swr/12\n",
    "    withdrawals = calculate_withdrawls(initial_withdrawal)\n",
    "    portfolio_growth_df = pd.DataFrame()\n",
    "    for main_index, main_row in sensex_df.iterrows():\n",
    "        monthly_portfolio_value  = generate_portfolio(main_index, withdrawals)\n",
    "        portfolio_growth_df.insert(main_index, main_row[\"Month\"], monthly_portfolio_value)\n",
    "    performance_at_swr[swr] = portfolio_growth_df"
   ]
  },
  {
   "cell_type": "code",
   "execution_count": 84,
   "metadata": {},
   "outputs": [],
   "source": [
    "def inflated_value(initial_value, timeperiod, monthly_inflation):\n",
    "    return initial_value * (pow((1 + monthly_inflation ), timeperiod)) "
   ]
  },
  {
   "cell_type": "code",
   "execution_count": 85,
   "metadata": {},
   "outputs": [
    {
     "output_type": "execute_result",
     "data": {
      "text/plain": [
       "              Month      corpus\n",
       "0      January-1991  428.694017\n",
       "1     February-1991  426.954551\n",
       "2        March-1991  425.222144\n",
       "3        April-1991  423.496765\n",
       "4          May-1991  421.778388\n",
       "..              ...         ...\n",
       "353       June-2020  102.053728\n",
       "354       July-2020  101.639636\n",
       "355     August-2020  101.227223\n",
       "356  September-2020  100.816485\n",
       "357    October-2020  100.407412\n",
       "\n",
       "[358 rows x 2 columns]"
      ],
      "text/html": "<div>\n<style scoped>\n    .dataframe tbody tr th:only-of-type {\n        vertical-align: middle;\n    }\n\n    .dataframe tbody tr th {\n        vertical-align: top;\n    }\n\n    .dataframe thead th {\n        text-align: right;\n    }\n</style>\n<table border=\"1\" class=\"dataframe\">\n  <thead>\n    <tr style=\"text-align: right;\">\n      <th></th>\n      <th>Month</th>\n      <th>corpus</th>\n    </tr>\n  </thead>\n  <tbody>\n    <tr>\n      <th>0</th>\n      <td>January-1991</td>\n      <td>428.694017</td>\n    </tr>\n    <tr>\n      <th>1</th>\n      <td>February-1991</td>\n      <td>426.954551</td>\n    </tr>\n    <tr>\n      <th>2</th>\n      <td>March-1991</td>\n      <td>425.222144</td>\n    </tr>\n    <tr>\n      <th>3</th>\n      <td>April-1991</td>\n      <td>423.496765</td>\n    </tr>\n    <tr>\n      <th>4</th>\n      <td>May-1991</td>\n      <td>421.778388</td>\n    </tr>\n    <tr>\n      <th>...</th>\n      <td>...</td>\n      <td>...</td>\n    </tr>\n    <tr>\n      <th>353</th>\n      <td>June-2020</td>\n      <td>102.053728</td>\n    </tr>\n    <tr>\n      <th>354</th>\n      <td>July-2020</td>\n      <td>101.639636</td>\n    </tr>\n    <tr>\n      <th>355</th>\n      <td>August-2020</td>\n      <td>101.227223</td>\n    </tr>\n    <tr>\n      <th>356</th>\n      <td>September-2020</td>\n      <td>100.816485</td>\n    </tr>\n    <tr>\n      <th>357</th>\n      <td>October-2020</td>\n      <td>100.407412</td>\n    </tr>\n  </tbody>\n</table>\n<p>358 rows × 2 columns</p>\n</div>"
     },
     "metadata": {},
     "execution_count": 85
    }
   ],
   "source": [
    "## Calculate the inflated value of portfolio\n",
    "inflated_corpus = list()\n",
    "total_months = len(sensex_df.index)\n",
    "for month  in sensex_df[\"Month\"]:\n",
    "    corpus_value = inflated_value(100, total_months, MONTHLY_INFLATION)\n",
    "    inflated_corpus.append((month, corpus_value))\n",
    "    total_months -= 1\n",
    "inflated_corpus_df = pd.DataFrame.from_records(inflated_corpus, columns=[\"Month\", \"corpus\"])\n",
    "inflated_corpus_df"
   ]
  },
  {
   "cell_type": "code",
   "execution_count": 86,
   "metadata": {},
   "outputs": [],
   "source": [
    "## Current Value of Portfolio\n",
    "def get_current_value(performace_df):\n",
    "    current_value_df  = performace_df.tail(1)\n",
    "    current_value_df = current_value_df.transpose()\n",
    "    current_value_df.columns = [\"corpus\"]\n",
    "    current_value_df['Month'] = current_value_df.index\n",
    "    current_value_df = current_value_df[['Month', 'corpus']]\n",
    "    current_value_df = current_value_df.reset_index(drop=True)\n",
    "    return current_value_df"
   ]
  },
  {
   "cell_type": "code",
   "execution_count": 87,
   "metadata": {},
   "outputs": [],
   "source": [
    "performance_list = list()\n",
    "for swr in SWR_RANGES:\n",
    "    current_value_df = get_current_value(performance_at_swr[swr])\n",
    "    preservation_result =  current_value_df['corpus'] - inflated_corpus_df['corpus']\n",
    "    preservation_result_df = pd.DataFrame(preservation_result)\n",
    "    preservation_status = preservation_result_df.apply(lambda x: True if x['corpus'] >0 else False , axis=1)\n",
    "    success = len(preservation_status[preservation_status == True].index)\n",
    "    performance_list.append((swr, success/len(preservation_status)))"
   ]
  },
  {
   "cell_type": "code",
   "execution_count": 88,
   "metadata": {},
   "outputs": [],
   "source": [
    "performance_df = pd.DataFrame.from_records(performance_list, columns=[\"SWR\", \"Performance\"])"
   ]
  },
  {
   "cell_type": "code",
   "execution_count": 89,
   "metadata": {},
   "outputs": [
    {
     "output_type": "execute_result",
     "data": {
      "text/plain": [
       "   SWR  Performance\n",
       "0    1     0.784916\n",
       "1    2     0.533520\n",
       "2    3     0.382682\n",
       "3    5     0.100559"
      ],
      "text/html": "<div>\n<style scoped>\n    .dataframe tbody tr th:only-of-type {\n        vertical-align: middle;\n    }\n\n    .dataframe tbody tr th {\n        vertical-align: top;\n    }\n\n    .dataframe thead th {\n        text-align: right;\n    }\n</style>\n<table border=\"1\" class=\"dataframe\">\n  <thead>\n    <tr style=\"text-align: right;\">\n      <th></th>\n      <th>SWR</th>\n      <th>Performance</th>\n    </tr>\n  </thead>\n  <tbody>\n    <tr>\n      <th>0</th>\n      <td>1</td>\n      <td>0.784916</td>\n    </tr>\n    <tr>\n      <th>1</th>\n      <td>2</td>\n      <td>0.533520</td>\n    </tr>\n    <tr>\n      <th>2</th>\n      <td>3</td>\n      <td>0.382682</td>\n    </tr>\n    <tr>\n      <th>3</th>\n      <td>5</td>\n      <td>0.100559</td>\n    </tr>\n  </tbody>\n</table>\n</div>"
     },
     "metadata": {},
     "execution_count": 89
    }
   ],
   "source": [
    "performance_df"
   ]
  },
  {
   "cell_type": "code",
   "execution_count": null,
   "metadata": {},
   "outputs": [],
   "source": []
  }
 ]
}