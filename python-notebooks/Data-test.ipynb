{
 "metadata": {
  "language_info": {
   "codemirror_mode": {
    "name": "ipython",
    "version": 3
   },
   "file_extension": ".py",
   "mimetype": "text/x-python",
   "name": "python",
   "nbconvert_exporter": "python",
   "pygments_lexer": "ipython3",
   "version": "3.6.9-final"
  },
  "orig_nbformat": 2,
  "kernelspec": {
   "name": "python36964bitvenvab78bbe528d54572b9934c8030111fbc",
   "display_name": "Python 3.6.9 64-bit ('.venv')"
  }
 },
 "nbformat": 4,
 "nbformat_minor": 2,
 "cells": [
  {
   "source": [
    "import pandas as pd \n",
    "import numpy as np \n",
    "import plotly.express as px\n"
   ],
   "cell_type": "code",
   "metadata": {},
   "execution_count": 1,
   "outputs": []
  },
  {
   "cell_type": "code",
   "execution_count": 2,
   "metadata": {},
   "outputs": [
    {
     "output_type": "execute_result",
     "data": {
      "text/plain": [
       "              Month      Open      High       Low     Close\n",
       "0      January-1980       NaN       NaN       NaN    123.54\n",
       "1     February-1980       NaN       NaN       NaN    128.21\n",
       "2        March-1980       NaN       NaN       NaN    128.57\n",
       "3        April-1980       NaN       NaN       NaN    127.25\n",
       "4          May-1980       NaN       NaN       NaN    125.97\n",
       "..              ...       ...       ...       ...       ...\n",
       "485       June-2020  32906.05  35706.55  32348.10  34915.80\n",
       "486       July-2020  35009.59  38617.03  34927.20  37606.89\n",
       "487     August-2020  37595.73  40010.17  36911.23  38628.29\n",
       "488  September-2020  38754.00  39359.51  36495.98  38067.93\n",
       "489    October-2020  38410.20  40585.36  38410.20  40509.49\n",
       "\n",
       "[490 rows x 5 columns]"
      ],
      "text/html": "<div>\n<style scoped>\n    .dataframe tbody tr th:only-of-type {\n        vertical-align: middle;\n    }\n\n    .dataframe tbody tr th {\n        vertical-align: top;\n    }\n\n    .dataframe thead th {\n        text-align: right;\n    }\n</style>\n<table border=\"1\" class=\"dataframe\">\n  <thead>\n    <tr style=\"text-align: right;\">\n      <th></th>\n      <th>Month</th>\n      <th>Open</th>\n      <th>High</th>\n      <th>Low</th>\n      <th>Close</th>\n    </tr>\n  </thead>\n  <tbody>\n    <tr>\n      <th>0</th>\n      <td>January-1980</td>\n      <td>NaN</td>\n      <td>NaN</td>\n      <td>NaN</td>\n      <td>123.54</td>\n    </tr>\n    <tr>\n      <th>1</th>\n      <td>February-1980</td>\n      <td>NaN</td>\n      <td>NaN</td>\n      <td>NaN</td>\n      <td>128.21</td>\n    </tr>\n    <tr>\n      <th>2</th>\n      <td>March-1980</td>\n      <td>NaN</td>\n      <td>NaN</td>\n      <td>NaN</td>\n      <td>128.57</td>\n    </tr>\n    <tr>\n      <th>3</th>\n      <td>April-1980</td>\n      <td>NaN</td>\n      <td>NaN</td>\n      <td>NaN</td>\n      <td>127.25</td>\n    </tr>\n    <tr>\n      <th>4</th>\n      <td>May-1980</td>\n      <td>NaN</td>\n      <td>NaN</td>\n      <td>NaN</td>\n      <td>125.97</td>\n    </tr>\n    <tr>\n      <th>...</th>\n      <td>...</td>\n      <td>...</td>\n      <td>...</td>\n      <td>...</td>\n      <td>...</td>\n    </tr>\n    <tr>\n      <th>485</th>\n      <td>June-2020</td>\n      <td>32906.05</td>\n      <td>35706.55</td>\n      <td>32348.10</td>\n      <td>34915.80</td>\n    </tr>\n    <tr>\n      <th>486</th>\n      <td>July-2020</td>\n      <td>35009.59</td>\n      <td>38617.03</td>\n      <td>34927.20</td>\n      <td>37606.89</td>\n    </tr>\n    <tr>\n      <th>487</th>\n      <td>August-2020</td>\n      <td>37595.73</td>\n      <td>40010.17</td>\n      <td>36911.23</td>\n      <td>38628.29</td>\n    </tr>\n    <tr>\n      <th>488</th>\n      <td>September-2020</td>\n      <td>38754.00</td>\n      <td>39359.51</td>\n      <td>36495.98</td>\n      <td>38067.93</td>\n    </tr>\n    <tr>\n      <th>489</th>\n      <td>October-2020</td>\n      <td>38410.20</td>\n      <td>40585.36</td>\n      <td>38410.20</td>\n      <td>40509.49</td>\n    </tr>\n  </tbody>\n</table>\n<p>490 rows × 5 columns</p>\n</div>"
     },
     "metadata": {},
     "execution_count": 2
    }
   ],
   "source": [
    "sensex_1980 = \"../data/SnP-Sensex-1980.csv\"\n",
    "sensex_df = pd.read_csv(sensex_1980, header=0)\n",
    "sensex_df\n"
   ]
  },
  {
   "cell_type": "code",
   "execution_count": 3,
   "metadata": {},
   "outputs": [],
   "source": [
    "# sensex_df = sensex_df.set_index(\"Month\")\n",
    "del sensex_df[\"Low\"]\n",
    "del sensex_df[\"Open\"]\n",
    "del sensex_df[\"High\"]"
   ]
  },
  {
   "cell_type": "code",
   "execution_count": 4,
   "metadata": {},
   "outputs": [],
   "source": [
    "sensex_df[\"Returns\"] = sensex_df[\"Close\"].pct_change()\n",
    "sensex_df= sensex_df.fillna(0)"
   ]
  },
  {
   "cell_type": "code",
   "execution_count": 5,
   "metadata": {},
   "outputs": [
    {
     "output_type": "execute_result",
     "data": {
      "text/plain": [
       "              Month     Close   Returns\n",
       "0      January-1980    123.54  0.000000\n",
       "1     February-1980    128.21  0.037802\n",
       "2        March-1980    128.57  0.002808\n",
       "3        April-1980    127.25 -0.010267\n",
       "4          May-1980    125.97 -0.010059\n",
       "..              ...       ...       ...\n",
       "485       June-2020  34915.80  0.076847\n",
       "486       July-2020  37606.89  0.077074\n",
       "487     August-2020  38628.29  0.027160\n",
       "488  September-2020  38067.93 -0.014506\n",
       "489    October-2020  40509.49  0.064137\n",
       "\n",
       "[490 rows x 3 columns]"
      ],
      "text/html": "<div>\n<style scoped>\n    .dataframe tbody tr th:only-of-type {\n        vertical-align: middle;\n    }\n\n    .dataframe tbody tr th {\n        vertical-align: top;\n    }\n\n    .dataframe thead th {\n        text-align: right;\n    }\n</style>\n<table border=\"1\" class=\"dataframe\">\n  <thead>\n    <tr style=\"text-align: right;\">\n      <th></th>\n      <th>Month</th>\n      <th>Close</th>\n      <th>Returns</th>\n    </tr>\n  </thead>\n  <tbody>\n    <tr>\n      <th>0</th>\n      <td>January-1980</td>\n      <td>123.54</td>\n      <td>0.000000</td>\n    </tr>\n    <tr>\n      <th>1</th>\n      <td>February-1980</td>\n      <td>128.21</td>\n      <td>0.037802</td>\n    </tr>\n    <tr>\n      <th>2</th>\n      <td>March-1980</td>\n      <td>128.57</td>\n      <td>0.002808</td>\n    </tr>\n    <tr>\n      <th>3</th>\n      <td>April-1980</td>\n      <td>127.25</td>\n      <td>-0.010267</td>\n    </tr>\n    <tr>\n      <th>4</th>\n      <td>May-1980</td>\n      <td>125.97</td>\n      <td>-0.010059</td>\n    </tr>\n    <tr>\n      <th>...</th>\n      <td>...</td>\n      <td>...</td>\n      <td>...</td>\n    </tr>\n    <tr>\n      <th>485</th>\n      <td>June-2020</td>\n      <td>34915.80</td>\n      <td>0.076847</td>\n    </tr>\n    <tr>\n      <th>486</th>\n      <td>July-2020</td>\n      <td>37606.89</td>\n      <td>0.077074</td>\n    </tr>\n    <tr>\n      <th>487</th>\n      <td>August-2020</td>\n      <td>38628.29</td>\n      <td>0.027160</td>\n    </tr>\n    <tr>\n      <th>488</th>\n      <td>September-2020</td>\n      <td>38067.93</td>\n      <td>-0.014506</td>\n    </tr>\n    <tr>\n      <th>489</th>\n      <td>October-2020</td>\n      <td>40509.49</td>\n      <td>0.064137</td>\n    </tr>\n  </tbody>\n</table>\n<p>490 rows × 3 columns</p>\n</div>"
     },
     "metadata": {},
     "execution_count": 5
    }
   ],
   "source": [
    "sensex_df"
   ]
  },
  {
   "cell_type": "code",
   "execution_count": 6,
   "metadata": {},
   "outputs": [
    {
     "output_type": "display_data",
     "data": {
      "application/vnd.plotly.v1+json": {
       "config": {
        "plotlyServerURL": "https://plot.ly"
       },
       "data": [
        {
         "hovertemplate": "Month=%{x}<br>Close=%{y}<extra></extra>",
         "legendgroup": "",
         "line": {
          "color": "#636efa",
          "dash": "solid"
         },
         "mode": "lines",
         "name": "",
         "orientation": "v",
         "showlegend": false,
         "type": "scatter",
         "x": [
          "January-1980",
          "February-1980",
          "March-1980",
          "April-1980",
          "May-1980",
          "June-1980",
          "July-1980",
          "August-1980",
          "September-1980",
          "October-1980",
          "November-1980",
          "December-1980",
          "January-1981",
          "February-1981",
          "March-1981",
          "April-1981",
          "May-1981",
          "June-1981",
          "July-1981",
          "August-1981",
          "September-1981",
          "October-1981",
          "November-1981",
          "December-1981",
          "January-1982",
          "February-1982",
          "March-1982",
          "April-1982",
          "May-1982",
          "June-1982",
          "July-1982",
          "August-1982",
          "September-1982",
          "October-1982",
          "November-1982",
          "December-1982",
          "January-1983",
          "February-1983",
          "March-1983",
          "April-1983",
          "May-1983",
          "June-1983",
          "July-1983",
          "August-1983",
          "September-1983",
          "October-1983",
          "November-1983",
          "December-1983",
          "January-1984",
          "February-1984",
          "March-1984",
          "April-1984",
          "May-1984",
          "June-1984",
          "July-1984",
          "August-1984",
          "September-1984",
          "October-1984",
          "November-1984",
          "December-1984",
          "January-1985",
          "February-1985",
          "March-1985",
          "April-1985",
          "May-1985",
          "June-1985",
          "July-1985",
          "August-1985",
          "September-1985",
          "October-1985",
          "November-1985",
          "December-1985",
          "January-1986",
          "February-1986",
          "March-1986",
          "April-1986",
          "May-1986",
          "June-1986",
          "July-1986",
          "August-1986",
          "September-1986",
          "October-1986",
          "November-1986",
          "December-1986",
          "January-1987",
          "February-1987",
          "March-1987",
          "April-1987",
          "May-1987",
          "June-1987",
          "July-1987",
          "August-1987",
          "September-1987",
          "October-1987",
          "November-1987",
          "December-1987",
          "January-1988",
          "February-1988",
          "March-1988",
          "April-1988",
          "May-1988",
          "June-1988",
          "July-1988",
          "August-1988",
          "September-1988",
          "October-1988",
          "November-1988",
          "December-1988",
          "January-1989",
          "February-1989",
          "March-1989",
          "April-1989",
          "May-1989",
          "June-1989",
          "July-1989",
          "August-1989",
          "September-1989",
          "October-1989",
          "November-1989",
          "December-1989",
          "January-1990",
          "February-1990",
          "March-1990",
          "April-1990",
          "May-1990",
          "June-1990",
          "July-1990",
          "August-1990",
          "September-1990",
          "October-1990",
          "November-1990",
          "December-1990",
          "January-1991",
          "February-1991",
          "March-1991",
          "April-1991",
          "May-1991",
          "June-1991",
          "July-1991",
          "August-1991",
          "September-1991",
          "October-1991",
          "November-1991",
          "December-1991",
          "January-1992",
          "February-1992",
          "March-1992",
          "April-1992",
          "May-1992",
          "June-1992",
          "July-1992",
          "August-1992",
          "September-1992",
          "October-1992",
          "November-1992",
          "December-1992",
          "January-1993",
          "February-1993",
          "March-1993",
          "April-1993",
          "May-1993",
          "June-1993",
          "July-1993",
          "August-1993",
          "September-1993",
          "October-1993",
          "November-1993",
          "December-1993",
          "January-1994",
          "February-1994",
          "March-1994",
          "April-1994",
          "May-1994",
          "June-1994",
          "July-1994",
          "August-1994",
          "September-1994",
          "October-1994",
          "November-1994",
          "December-1994",
          "January-1995",
          "February-1995",
          "March-1995",
          "April-1995",
          "May-1995",
          "June-1995",
          "July-1995",
          "August-1995",
          "September-1995",
          "October-1995",
          "November-1995",
          "December-1995",
          "January-1996",
          "February-1996",
          "March-1996",
          "April-1996",
          "May-1996",
          "June-1996",
          "July-1996",
          "August-1996",
          "September-1996",
          "October-1996",
          "November-1996",
          "December-1996",
          "January-1997",
          "February-1997",
          "March-1997",
          "April-1997",
          "May-1997",
          "June-1997",
          "July-1997",
          "August-1997",
          "September-1997",
          "October-1997",
          "November-1997",
          "December-1997",
          "January-1998",
          "February-1998",
          "March-1998",
          "April-1998",
          "May-1998",
          "June-1998",
          "July-1998",
          "August-1998",
          "September-1998",
          "October-1998",
          "November-1998",
          "December-1998",
          "January-1999",
          "February-1999",
          "March-1999",
          "April-1999",
          "May-1999",
          "June-1999",
          "July-1999",
          "August-1999",
          "September-1999",
          "October-1999",
          "November-1999",
          "December-1999",
          "January-2000",
          "February-2000",
          "March-2000",
          "April-2000",
          "May-2000",
          "June-2000",
          "July-2000",
          "August-2000",
          "September-2000",
          "October-2000",
          "November-2000",
          "December-2000",
          "January-2001",
          "February-2001",
          "March-2001",
          "April-2001",
          "May-2001",
          "June-2001",
          "July-2001",
          "August-2001",
          "September-2001",
          "October-2001",
          "November-2001",
          "December-2001",
          "January-2002",
          "February-2002",
          "March-2002",
          "April-2002",
          "May-2002",
          "June-2002",
          "July-2002",
          "August-2002",
          "September-2002",
          "October-2002",
          "November-2002",
          "December-2002",
          "January-2003",
          "February-2003",
          "March-2003",
          "April-2003",
          "May-2003",
          "June-2003",
          "July-2003",
          "August-2003",
          "September-2003",
          "October-2003",
          "November-2003",
          "December-2003",
          "January-2004",
          "February-2004",
          "March-2004",
          "April-2004",
          "May-2004",
          "June-2004",
          "July-2004",
          "August-2004",
          "September-2004",
          "October-2004",
          "November-2004",
          "December-2004",
          "January-2005",
          "February-2005",
          "March-2005",
          "April-2005",
          "May-2005",
          "June-2005",
          "July-2005",
          "August-2005",
          "September-2005",
          "October-2005",
          "November-2005",
          "December-2005",
          "January-2006",
          "February-2006",
          "March-2006",
          "April-2006",
          "May-2006",
          "June-2006",
          "July-2006",
          "August-2006",
          "September-2006",
          "October-2006",
          "November-2006",
          "December-2006",
          "January-2007",
          "February-2007",
          "March-2007",
          "April-2007",
          "May-2007",
          "June-2007",
          "July-2007",
          "August-2007",
          "September-2007",
          "October-2007",
          "November-2007",
          "December-2007",
          "January-2008",
          "February-2008",
          "March-2008",
          "April-2008",
          "May-2008",
          "June-2008",
          "July-2008",
          "August-2008",
          "September-2008",
          "October-2008",
          "November-2008",
          "December-2008",
          "January-2009",
          "February-2009",
          "March-2009",
          "April-2009",
          "May-2009",
          "June-2009",
          "July-2009",
          "August-2009",
          "September-2009",
          "October-2009",
          "November-2009",
          "December-2009",
          "January-2010",
          "February-2010",
          "March-2010",
          "April-2010",
          "May-2010",
          "June-2010",
          "July-2010",
          "August-2010",
          "September-2010",
          "October-2010",
          "November-2010",
          "December-2010",
          "January-2011",
          "February-2011",
          "March-2011",
          "April-2011",
          "May-2011",
          "June-2011",
          "July-2011",
          "August-2011",
          "September-2011",
          "October-2011",
          "November-2011",
          "December-2011",
          "January-2012",
          "February-2012",
          "March-2012",
          "April-2012",
          "May-2012",
          "June-2012",
          "July-2012",
          "August-2012",
          "September-2012",
          "October-2012",
          "November-2012",
          "December-2012",
          "January-2013",
          "February-2013",
          "March-2013",
          "April-2013",
          "May-2013",
          "June-2013",
          "July-2013",
          "August-2013",
          "September-2013",
          "October-2013",
          "November-2013",
          "December-2013",
          "January-2014",
          "February-2014",
          "March-2014",
          "April-2014",
          "May-2014",
          "June-2014",
          "July-2014",
          "August-2014",
          "September-2014",
          "October-2014",
          "November-2014",
          "December-2014",
          "January-2015",
          "February-2015",
          "March-2015",
          "April-2015",
          "May-2015",
          "June-2015",
          "July-2015",
          "August-2015",
          "September-2015",
          "October-2015",
          "November-2015",
          "December-2015",
          "January-2016",
          "February-2016",
          "March-2016",
          "April-2016",
          "May-2016",
          "June-2016",
          "July-2016",
          "August-2016",
          "September-2016",
          "October-2016",
          "November-2016",
          "December-2016",
          "January-2017",
          "February-2017",
          "March-2017",
          "April-2017",
          "May-2017",
          "June-2017",
          "July-2017",
          "August-2017",
          "September-2017",
          "October-2017",
          "November-2017",
          "December-2017",
          "January-2018",
          "February-2018",
          "March-2018",
          "April-2018",
          "May-2018",
          "June-2018",
          "July-2018",
          "August-2018",
          "September-2018",
          "October-2018",
          "November-2018",
          "December-2018",
          "January-2019",
          "February-2019",
          "March-2019",
          "April-2019",
          "May-2019",
          "June-2019",
          "July-2019",
          "August-2019",
          "September-2019",
          "October-2019",
          "November-2019",
          "December-2019",
          "January-2020",
          "February-2020",
          "March-2020",
          "April-2020",
          "May-2020",
          "June-2020",
          "July-2020",
          "August-2020",
          "September-2020",
          "October-2020"
         ],
         "xaxis": "x",
         "y": [
          123.54,
          128.21,
          128.57,
          127.25,
          125.97,
          122.15,
          128.6,
          140.75,
          134.41,
          130.92,
          140.14,
          148.25,
          146.63,
          160.16,
          173.44,
          186.29,
          177.06,
          211.64,
          208.02,
          193.49,
          205.4,
          208.4,
          214.56,
          227.72,
          219.93,
          228.07,
          217.71,
          225.9,
          228.92,
          212.81,
          216.12,
          213.99,
          228.22,
          222.14,
          227.97,
          235.83,
          221.66,
          218.82,
          211.51,
          214.16,
          237.42,
          237.45,
          235.46,
          238.57,
          236.21,
          236.92,
          240.21,
          252.92,
          248.46,
          250.47,
          245.33,
          235.27,
          240.75,
          249.44,
          253.73,
          249.14,
          265.61,
          267.81,
          259.44,
          271.87,
          287.62,
          303.63,
          353.86,
          386.95,
          399.42,
          477.96,
          514.85,
          468.14,
          434.97,
          476.14,
          496.35,
          527.36,
          597.86,
          656.89,
          574.11,
          598.53,
          625.64,
          605.57,
          596.7,
          548.4,
          588.4,
          575.74,
          499.81,
          524.45,
          553.8,
          550.43,
          510.36,
          479.87,
          462.27,
          433.98,
          489.11,
          482.79,
          449.52,
          450.31,
          430.18,
          442.17,
          441.95,
          411.22,
          398.37,
          471.5,
          579.81,
          583.5,
          603.59,
          593.76,
          662.71,
          654.18,
          707.44,
          666.26,
          678.72,
          654.96,
          713.6,
          780.36,
          691.15,
          792.17,
          716.35,
          733.3,
          748.06,
          746.58,
          689.72,
          778.64,
          683.32,
          676.23,
          781.05,
          795.13,
          800.8,
          850.5,
          1098.95,
          1247.53,
          1420.08,
          1295.21,
          1196.25,
          1048.29,
          982.32,
          1220.41,
          1167.97,
          1235.11,
          1307.34,
          1269.91,
          1632.67,
          1795.99,
          1885.28,
          1889.84,
          1903.31,
          1908.85,
          2302.54,
          3017.68,
          4285,
          3887.72,
          3006.08,
          3080.54,
          2727.06,
          3031.63,
          3294.42,
          2833.34,
          2518.1,
          2615.37,
          2680.79,
          2783.58,
          2280.52,
          2122.3,
          2192.74,
          2227.54,
          2328.21,
          2633.79,
          2709.64,
          2673.74,
          3233.14,
          3346.06,
          3994.86,
          4286.2,
          3778.99,
          3746.1,
          3829.36,
          4086.72,
          4191.3,
          4588.16,
          4281,
          4269.86,
          4124.18,
          3926.9,
          3618.54,
          3421.47,
          3260.96,
          3133.28,
          3351.48,
          3247.36,
          3386.97,
          3346.76,
          3493.21,
          3423.47,
          2994.29,
          3110.49,
          2931.84,
          3391.99,
          3366.61,
          3826.72,
          3724.97,
          3812.52,
          3536.94,
          3514.61,
          3239.48,
          3163.78,
          2890.5,
          3085.2,
          3382.47,
          3651.91,
          3360.89,
          3841.11,
          3755.1,
          4256.09,
          4305.76,
          3876.08,
          3902.03,
          3803.24,
          3560.29,
          3658.98,
          3224.36,
          3622.22,
          3892.75,
          4006.81,
          3686.39,
          3250.69,
          3211.31,
          2933.85,
          3102.29,
          2812.49,
          2810.66,
          3055.41,
          3315.57,
          3399.63,
          3739.96,
          3325.69,
          3963.56,
          4140.73,
          4542.34,
          4898.21,
          4764.42,
          4444.56,
          4622.21,
          5005.82,
          5205.29,
          5446.98,
          5001.28,
          4657.55,
          4433.61,
          4748.77,
          4279.86,
          4477.31,
          4090.38,
          3711.02,
          3997.99,
          3972.12,
          4326.72,
          4247.04,
          3604.38,
          3519.16,
          3631.91,
          3456.78,
          3329.28,
          3244.95,
          2811.6,
          2989.35,
          3287.56,
          3262.33,
          3311.03,
          3562.31,
          3469.35,
          3338.16,
          3125.73,
          3244.7,
          2987.65,
          3181.23,
          2991.36,
          2949.32,
          3228.82,
          3377.28,
          3250.38,
          3283.66,
          3048.72,
          2959.79,
          3180.75,
          3607.13,
          3792.61,
          4244.73,
          4453.24,
          4906.87,
          5044.82,
          5838.96,
          5695.67,
          5667.51,
          5590.6,
          5655.09,
          4759.62,
          4795.46,
          5170.32,
          5192.08,
          5583.61,
          5672.27,
          6234.29,
          6602.69,
          6555.94,
          6713.86,
          6492.82,
          6154.44,
          6715.11,
          7193.85,
          7635.42,
          7805.43,
          8634.48,
          7892.32,
          8788.81,
          9397.93,
          9919.89,
          10370.24,
          11279.96,
          12042.56,
          10398.61,
          10609.25,
          10743.88,
          11699.05,
          12454.42,
          12961.9,
          13696.31,
          13786.91,
          14090.92,
          12938.09,
          13072.1,
          13872.37,
          14544.46,
          14650.51,
          15550.99,
          15318.6,
          17291.1,
          19837.99,
          19363.19,
          20286.99,
          17648.71,
          17578.72,
          15644.44,
          17287.31,
          16415.57,
          13461.6,
          14355.75,
          14564.53,
          12860.43,
          9788.06,
          9092.72,
          9647.31,
          9424.24,
          8891.61,
          9708.5,
          11403.25,
          14625.25,
          14493.84,
          15670.31,
          15666.64,
          17126.84,
          15896.28,
          16926.22,
          17464.81,
          16357.96,
          16429.55,
          17527.77,
          17558.71,
          16944.63,
          17700.9,
          17868.29,
          17971.12,
          20069.12,
          20032.34,
          19521.25,
          20509.09,
          18327.76,
          17823.4,
          19445.22,
          19135.96,
          18503.28,
          18845.87,
          18197.2,
          16676.75,
          16453.76,
          17705.01,
          16123.46,
          15454.92,
          17193.55,
          17752.68,
          17404.2,
          17318.81,
          16218.53,
          17429.98,
          17236.18,
          17429.56,
          18762.74,
          18505.38,
          19339.9,
          19426.71,
          19894.98,
          18861.54,
          18835.77,
          19504.18,
          19760.3,
          19395.81,
          19345.7,
          18619.72,
          19379.77,
          21164.52,
          20791.93,
          21170.68,
          20513.85,
          21120.12,
          22386.27,
          22417.8,
          24217.34,
          25413.78,
          25894.97,
          26638.11,
          26630.51,
          27865.83,
          28693.99,
          27499.42,
          29182.95,
          29361.5,
          27957.49,
          27011.31,
          27828.44,
          27780.83,
          28114.56,
          26283.09,
          26154.83,
          26656.83,
          26145.67,
          26117.54,
          24870.69,
          23002,
          25341.86,
          25606.62,
          26667.96,
          26999.72,
          28051.86,
          28452.17,
          27865.96,
          27930.21,
          26652.81,
          26626.46,
          27655.96,
          28743.32,
          29620.5,
          29918.4,
          31145.8,
          30921.61,
          32514.94,
          31730.49,
          31283.72,
          33213.13,
          33149.35,
          34056.83,
          35965.02,
          34184.04,
          32968.68,
          35160.36,
          35322.38,
          35423.48,
          37606.58,
          38645.07,
          36227.14,
          34442.05,
          36194.3,
          36068.33,
          36256.69,
          35867.44,
          38672.91,
          39031.55,
          39714.2,
          39394.64,
          37481.12,
          37332.79,
          38667.33,
          40129.05,
          40793.81,
          41253.74,
          40723.49,
          38297.29,
          29468.49,
          33717.62,
          32424.1,
          34915.8,
          37606.89,
          38628.29,
          38067.93,
          40509.49
         ],
         "yaxis": "y"
        }
       ],
       "layout": {
        "legend": {
         "tracegroupgap": 0
        },
        "template": {
         "data": {
          "bar": [
           {
            "error_x": {
             "color": "#2a3f5f"
            },
            "error_y": {
             "color": "#2a3f5f"
            },
            "marker": {
             "line": {
              "color": "#E5ECF6",
              "width": 0.5
             }
            },
            "type": "bar"
           }
          ],
          "barpolar": [
           {
            "marker": {
             "line": {
              "color": "#E5ECF6",
              "width": 0.5
             }
            },
            "type": "barpolar"
           }
          ],
          "carpet": [
           {
            "aaxis": {
             "endlinecolor": "#2a3f5f",
             "gridcolor": "white",
             "linecolor": "white",
             "minorgridcolor": "white",
             "startlinecolor": "#2a3f5f"
            },
            "baxis": {
             "endlinecolor": "#2a3f5f",
             "gridcolor": "white",
             "linecolor": "white",
             "minorgridcolor": "white",
             "startlinecolor": "#2a3f5f"
            },
            "type": "carpet"
           }
          ],
          "choropleth": [
           {
            "colorbar": {
             "outlinewidth": 0,
             "ticks": ""
            },
            "type": "choropleth"
           }
          ],
          "contour": [
           {
            "colorbar": {
             "outlinewidth": 0,
             "ticks": ""
            },
            "colorscale": [
             [
              0,
              "#0d0887"
             ],
             [
              0.1111111111111111,
              "#46039f"
             ],
             [
              0.2222222222222222,
              "#7201a8"
             ],
             [
              0.3333333333333333,
              "#9c179e"
             ],
             [
              0.4444444444444444,
              "#bd3786"
             ],
             [
              0.5555555555555556,
              "#d8576b"
             ],
             [
              0.6666666666666666,
              "#ed7953"
             ],
             [
              0.7777777777777778,
              "#fb9f3a"
             ],
             [
              0.8888888888888888,
              "#fdca26"
             ],
             [
              1,
              "#f0f921"
             ]
            ],
            "type": "contour"
           }
          ],
          "contourcarpet": [
           {
            "colorbar": {
             "outlinewidth": 0,
             "ticks": ""
            },
            "type": "contourcarpet"
           }
          ],
          "heatmap": [
           {
            "colorbar": {
             "outlinewidth": 0,
             "ticks": ""
            },
            "colorscale": [
             [
              0,
              "#0d0887"
             ],
             [
              0.1111111111111111,
              "#46039f"
             ],
             [
              0.2222222222222222,
              "#7201a8"
             ],
             [
              0.3333333333333333,
              "#9c179e"
             ],
             [
              0.4444444444444444,
              "#bd3786"
             ],
             [
              0.5555555555555556,
              "#d8576b"
             ],
             [
              0.6666666666666666,
              "#ed7953"
             ],
             [
              0.7777777777777778,
              "#fb9f3a"
             ],
             [
              0.8888888888888888,
              "#fdca26"
             ],
             [
              1,
              "#f0f921"
             ]
            ],
            "type": "heatmap"
           }
          ],
          "heatmapgl": [
           {
            "colorbar": {
             "outlinewidth": 0,
             "ticks": ""
            },
            "colorscale": [
             [
              0,
              "#0d0887"
             ],
             [
              0.1111111111111111,
              "#46039f"
             ],
             [
              0.2222222222222222,
              "#7201a8"
             ],
             [
              0.3333333333333333,
              "#9c179e"
             ],
             [
              0.4444444444444444,
              "#bd3786"
             ],
             [
              0.5555555555555556,
              "#d8576b"
             ],
             [
              0.6666666666666666,
              "#ed7953"
             ],
             [
              0.7777777777777778,
              "#fb9f3a"
             ],
             [
              0.8888888888888888,
              "#fdca26"
             ],
             [
              1,
              "#f0f921"
             ]
            ],
            "type": "heatmapgl"
           }
          ],
          "histogram": [
           {
            "marker": {
             "colorbar": {
              "outlinewidth": 0,
              "ticks": ""
             }
            },
            "type": "histogram"
           }
          ],
          "histogram2d": [
           {
            "colorbar": {
             "outlinewidth": 0,
             "ticks": ""
            },
            "colorscale": [
             [
              0,
              "#0d0887"
             ],
             [
              0.1111111111111111,
              "#46039f"
             ],
             [
              0.2222222222222222,
              "#7201a8"
             ],
             [
              0.3333333333333333,
              "#9c179e"
             ],
             [
              0.4444444444444444,
              "#bd3786"
             ],
             [
              0.5555555555555556,
              "#d8576b"
             ],
             [
              0.6666666666666666,
              "#ed7953"
             ],
             [
              0.7777777777777778,
              "#fb9f3a"
             ],
             [
              0.8888888888888888,
              "#fdca26"
             ],
             [
              1,
              "#f0f921"
             ]
            ],
            "type": "histogram2d"
           }
          ],
          "histogram2dcontour": [
           {
            "colorbar": {
             "outlinewidth": 0,
             "ticks": ""
            },
            "colorscale": [
             [
              0,
              "#0d0887"
             ],
             [
              0.1111111111111111,
              "#46039f"
             ],
             [
              0.2222222222222222,
              "#7201a8"
             ],
             [
              0.3333333333333333,
              "#9c179e"
             ],
             [
              0.4444444444444444,
              "#bd3786"
             ],
             [
              0.5555555555555556,
              "#d8576b"
             ],
             [
              0.6666666666666666,
              "#ed7953"
             ],
             [
              0.7777777777777778,
              "#fb9f3a"
             ],
             [
              0.8888888888888888,
              "#fdca26"
             ],
             [
              1,
              "#f0f921"
             ]
            ],
            "type": "histogram2dcontour"
           }
          ],
          "mesh3d": [
           {
            "colorbar": {
             "outlinewidth": 0,
             "ticks": ""
            },
            "type": "mesh3d"
           }
          ],
          "parcoords": [
           {
            "line": {
             "colorbar": {
              "outlinewidth": 0,
              "ticks": ""
             }
            },
            "type": "parcoords"
           }
          ],
          "pie": [
           {
            "automargin": true,
            "type": "pie"
           }
          ],
          "scatter": [
           {
            "marker": {
             "colorbar": {
              "outlinewidth": 0,
              "ticks": ""
             }
            },
            "type": "scatter"
           }
          ],
          "scatter3d": [
           {
            "line": {
             "colorbar": {
              "outlinewidth": 0,
              "ticks": ""
             }
            },
            "marker": {
             "colorbar": {
              "outlinewidth": 0,
              "ticks": ""
             }
            },
            "type": "scatter3d"
           }
          ],
          "scattercarpet": [
           {
            "marker": {
             "colorbar": {
              "outlinewidth": 0,
              "ticks": ""
             }
            },
            "type": "scattercarpet"
           }
          ],
          "scattergeo": [
           {
            "marker": {
             "colorbar": {
              "outlinewidth": 0,
              "ticks": ""
             }
            },
            "type": "scattergeo"
           }
          ],
          "scattergl": [
           {
            "marker": {
             "colorbar": {
              "outlinewidth": 0,
              "ticks": ""
             }
            },
            "type": "scattergl"
           }
          ],
          "scattermapbox": [
           {
            "marker": {
             "colorbar": {
              "outlinewidth": 0,
              "ticks": ""
             }
            },
            "type": "scattermapbox"
           }
          ],
          "scatterpolar": [
           {
            "marker": {
             "colorbar": {
              "outlinewidth": 0,
              "ticks": ""
             }
            },
            "type": "scatterpolar"
           }
          ],
          "scatterpolargl": [
           {
            "marker": {
             "colorbar": {
              "outlinewidth": 0,
              "ticks": ""
             }
            },
            "type": "scatterpolargl"
           }
          ],
          "scatterternary": [
           {
            "marker": {
             "colorbar": {
              "outlinewidth": 0,
              "ticks": ""
             }
            },
            "type": "scatterternary"
           }
          ],
          "surface": [
           {
            "colorbar": {
             "outlinewidth": 0,
             "ticks": ""
            },
            "colorscale": [
             [
              0,
              "#0d0887"
             ],
             [
              0.1111111111111111,
              "#46039f"
             ],
             [
              0.2222222222222222,
              "#7201a8"
             ],
             [
              0.3333333333333333,
              "#9c179e"
             ],
             [
              0.4444444444444444,
              "#bd3786"
             ],
             [
              0.5555555555555556,
              "#d8576b"
             ],
             [
              0.6666666666666666,
              "#ed7953"
             ],
             [
              0.7777777777777778,
              "#fb9f3a"
             ],
             [
              0.8888888888888888,
              "#fdca26"
             ],
             [
              1,
              "#f0f921"
             ]
            ],
            "type": "surface"
           }
          ],
          "table": [
           {
            "cells": {
             "fill": {
              "color": "#EBF0F8"
             },
             "line": {
              "color": "white"
             }
            },
            "header": {
             "fill": {
              "color": "#C8D4E3"
             },
             "line": {
              "color": "white"
             }
            },
            "type": "table"
           }
          ]
         },
         "layout": {
          "annotationdefaults": {
           "arrowcolor": "#2a3f5f",
           "arrowhead": 0,
           "arrowwidth": 1
          },
          "coloraxis": {
           "colorbar": {
            "outlinewidth": 0,
            "ticks": ""
           }
          },
          "colorscale": {
           "diverging": [
            [
             0,
             "#8e0152"
            ],
            [
             0.1,
             "#c51b7d"
            ],
            [
             0.2,
             "#de77ae"
            ],
            [
             0.3,
             "#f1b6da"
            ],
            [
             0.4,
             "#fde0ef"
            ],
            [
             0.5,
             "#f7f7f7"
            ],
            [
             0.6,
             "#e6f5d0"
            ],
            [
             0.7,
             "#b8e186"
            ],
            [
             0.8,
             "#7fbc41"
            ],
            [
             0.9,
             "#4d9221"
            ],
            [
             1,
             "#276419"
            ]
           ],
           "sequential": [
            [
             0,
             "#0d0887"
            ],
            [
             0.1111111111111111,
             "#46039f"
            ],
            [
             0.2222222222222222,
             "#7201a8"
            ],
            [
             0.3333333333333333,
             "#9c179e"
            ],
            [
             0.4444444444444444,
             "#bd3786"
            ],
            [
             0.5555555555555556,
             "#d8576b"
            ],
            [
             0.6666666666666666,
             "#ed7953"
            ],
            [
             0.7777777777777778,
             "#fb9f3a"
            ],
            [
             0.8888888888888888,
             "#fdca26"
            ],
            [
             1,
             "#f0f921"
            ]
           ],
           "sequentialminus": [
            [
             0,
             "#0d0887"
            ],
            [
             0.1111111111111111,
             "#46039f"
            ],
            [
             0.2222222222222222,
             "#7201a8"
            ],
            [
             0.3333333333333333,
             "#9c179e"
            ],
            [
             0.4444444444444444,
             "#bd3786"
            ],
            [
             0.5555555555555556,
             "#d8576b"
            ],
            [
             0.6666666666666666,
             "#ed7953"
            ],
            [
             0.7777777777777778,
             "#fb9f3a"
            ],
            [
             0.8888888888888888,
             "#fdca26"
            ],
            [
             1,
             "#f0f921"
            ]
           ]
          },
          "colorway": [
           "#636efa",
           "#EF553B",
           "#00cc96",
           "#ab63fa",
           "#FFA15A",
           "#19d3f3",
           "#FF6692",
           "#B6E880",
           "#FF97FF",
           "#FECB52"
          ],
          "font": {
           "color": "#2a3f5f"
          },
          "geo": {
           "bgcolor": "white",
           "lakecolor": "white",
           "landcolor": "#E5ECF6",
           "showlakes": true,
           "showland": true,
           "subunitcolor": "white"
          },
          "hoverlabel": {
           "align": "left"
          },
          "hovermode": "closest",
          "mapbox": {
           "style": "light"
          },
          "paper_bgcolor": "white",
          "plot_bgcolor": "#E5ECF6",
          "polar": {
           "angularaxis": {
            "gridcolor": "white",
            "linecolor": "white",
            "ticks": ""
           },
           "bgcolor": "#E5ECF6",
           "radialaxis": {
            "gridcolor": "white",
            "linecolor": "white",
            "ticks": ""
           }
          },
          "scene": {
           "xaxis": {
            "backgroundcolor": "#E5ECF6",
            "gridcolor": "white",
            "gridwidth": 2,
            "linecolor": "white",
            "showbackground": true,
            "ticks": "",
            "zerolinecolor": "white"
           },
           "yaxis": {
            "backgroundcolor": "#E5ECF6",
            "gridcolor": "white",
            "gridwidth": 2,
            "linecolor": "white",
            "showbackground": true,
            "ticks": "",
            "zerolinecolor": "white"
           },
           "zaxis": {
            "backgroundcolor": "#E5ECF6",
            "gridcolor": "white",
            "gridwidth": 2,
            "linecolor": "white",
            "showbackground": true,
            "ticks": "",
            "zerolinecolor": "white"
           }
          },
          "shapedefaults": {
           "line": {
            "color": "#2a3f5f"
           }
          },
          "ternary": {
           "aaxis": {
            "gridcolor": "white",
            "linecolor": "white",
            "ticks": ""
           },
           "baxis": {
            "gridcolor": "white",
            "linecolor": "white",
            "ticks": ""
           },
           "bgcolor": "#E5ECF6",
           "caxis": {
            "gridcolor": "white",
            "linecolor": "white",
            "ticks": ""
           }
          },
          "title": {
           "x": 0.05
          },
          "xaxis": {
           "automargin": true,
           "gridcolor": "white",
           "linecolor": "white",
           "ticks": "",
           "title": {
            "standoff": 15
           },
           "zerolinecolor": "white",
           "zerolinewidth": 2
          },
          "yaxis": {
           "automargin": true,
           "gridcolor": "white",
           "linecolor": "white",
           "ticks": "",
           "title": {
            "standoff": 15
           },
           "zerolinecolor": "white",
           "zerolinewidth": 2
          }
         }
        },
        "title": {
         "text": "Sensex Return India - 1991 - 2020"
        },
        "xaxis": {
         "anchor": "y",
         "domain": [
          0,
          1
         ],
         "title": {
          "text": "Month"
         }
        },
        "yaxis": {
         "anchor": "x",
         "domain": [
          0,
          1
         ],
         "title": {
          "text": "Close"
         }
        }
       }
      }
     },
     "metadata": {}
    }
   ],
   "source": [
    "fig = px.line(sensex_df, x=\"Month\", y=\"Close\", title='Sensex Return India - 1991 - 2020')\n",
    "fig.show()"
   ]
  },
  {
   "cell_type": "code",
   "execution_count": 7,
   "metadata": {},
   "outputs": [],
   "source": [
    "inflation = .06\n",
    "swr = .04\n",
    "inital_value_equity = 100\n",
    "initial_debt_value = 100 - inital_value_equity\n"
   ]
  },
  {
   "cell_type": "code",
   "execution_count": 15,
   "metadata": {
    "tags": []
   },
   "outputs": [],
   "source": [
    "\n",
    "equity_df = pd.DataFrame()\n",
    "for index, row in sensex_df.iterrows():\n",
    "    equity_value = inital_value_equity\n",
    "    debt_value = initial_debt_value\n",
    "    data = list()\n",
    "    for sub_index, sub_row in sensex_df.iterrows():\n",
    "        if index < sub_index:\n",
    "            equity_value = (1 + sub_row[\"Returns\"])*equity_value\n",
    "            data.append(equity_value)\n",
    "        elif index == sub_index:\n",
    "            data.append(equity_value)\n",
    "        else: \n",
    "            data.append(None)\n",
    "    equity_df.insert(index, row[\"Months\"], data)"
   ]
  },
  {
   "cell_type": "code",
   "execution_count": 16,
   "metadata": {},
   "outputs": [
    {
     "output_type": "execute_result",
     "data": {
      "text/plain": [
       "        Test0       Test1  Test2 Test3 Test4 Test5 Test6 Test7 Test8 Test9  \\\n",
       "0  100.000000         NaN    NaN  None  None  None  None  None  None  None   \n",
       "1  106.413693  100.000000    NaN  None  None  None  None  None  None  None   \n",
       "2  113.238740  106.413693  100.0  None  None  None  None  None  None  None   \n",
       "\n",
       "   ... Test480 Test481 Test482 Test483 Test484 Test485 Test486 Test487  \\\n",
       "0  ...    None    None    None    None    None    None    None    None   \n",
       "1  ...    None    None    None    None    None    None    None    None   \n",
       "2  ...    None    None    None    None    None    None    None    None   \n",
       "\n",
       "  Test488 Test489  \n",
       "0    None    None  \n",
       "1    None    None  \n",
       "2    None    None  \n",
       "\n",
       "[3 rows x 490 columns]"
      ],
      "text/html": "<div>\n<style scoped>\n    .dataframe tbody tr th:only-of-type {\n        vertical-align: middle;\n    }\n\n    .dataframe tbody tr th {\n        vertical-align: top;\n    }\n\n    .dataframe thead th {\n        text-align: right;\n    }\n</style>\n<table border=\"1\" class=\"dataframe\">\n  <thead>\n    <tr style=\"text-align: right;\">\n      <th></th>\n      <th>Test0</th>\n      <th>Test1</th>\n      <th>Test2</th>\n      <th>Test3</th>\n      <th>Test4</th>\n      <th>Test5</th>\n      <th>Test6</th>\n      <th>Test7</th>\n      <th>Test8</th>\n      <th>Test9</th>\n      <th>...</th>\n      <th>Test480</th>\n      <th>Test481</th>\n      <th>Test482</th>\n      <th>Test483</th>\n      <th>Test484</th>\n      <th>Test485</th>\n      <th>Test486</th>\n      <th>Test487</th>\n      <th>Test488</th>\n      <th>Test489</th>\n    </tr>\n  </thead>\n  <tbody>\n    <tr>\n      <th>0</th>\n      <td>100.000000</td>\n      <td>NaN</td>\n      <td>NaN</td>\n      <td>None</td>\n      <td>None</td>\n      <td>None</td>\n      <td>None</td>\n      <td>None</td>\n      <td>None</td>\n      <td>None</td>\n      <td>...</td>\n      <td>None</td>\n      <td>None</td>\n      <td>None</td>\n      <td>None</td>\n      <td>None</td>\n      <td>None</td>\n      <td>None</td>\n      <td>None</td>\n      <td>None</td>\n      <td>None</td>\n    </tr>\n    <tr>\n      <th>1</th>\n      <td>106.413693</td>\n      <td>100.000000</td>\n      <td>NaN</td>\n      <td>None</td>\n      <td>None</td>\n      <td>None</td>\n      <td>None</td>\n      <td>None</td>\n      <td>None</td>\n      <td>None</td>\n      <td>...</td>\n      <td>None</td>\n      <td>None</td>\n      <td>None</td>\n      <td>None</td>\n      <td>None</td>\n      <td>None</td>\n      <td>None</td>\n      <td>None</td>\n      <td>None</td>\n      <td>None</td>\n    </tr>\n    <tr>\n      <th>2</th>\n      <td>113.238740</td>\n      <td>106.413693</td>\n      <td>100.0</td>\n      <td>None</td>\n      <td>None</td>\n      <td>None</td>\n      <td>None</td>\n      <td>None</td>\n      <td>None</td>\n      <td>None</td>\n      <td>...</td>\n      <td>None</td>\n      <td>None</td>\n      <td>None</td>\n      <td>None</td>\n      <td>None</td>\n      <td>None</td>\n      <td>None</td>\n      <td>None</td>\n      <td>None</td>\n      <td>None</td>\n    </tr>\n  </tbody>\n</table>\n<p>3 rows × 490 columns</p>\n</div>"
     },
     "metadata": {},
     "execution_count": 16
    }
   ],
   "source": [
    "file_name = \"../data/equity_simulation.csv\"\n",
    "equity_df.to_csv(file_name, sep=',')\n",
    "# equity_df"
   ]
  },
  {
   "cell_type": "code",
   "execution_count": null,
   "metadata": {},
   "outputs": [],
   "source": []
  }
 ]
}